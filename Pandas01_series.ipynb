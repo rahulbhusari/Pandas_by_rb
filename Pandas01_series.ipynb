{
  "nbformat": 4,
  "nbformat_minor": 0,
  "metadata": {
    "colab": {
      "provenance": [],
      "authorship_tag": "ABX9TyNTWSVDBVzB+Jo7sGbEPSkV",
      "include_colab_link": true
    },
    "kernelspec": {
      "name": "python3",
      "display_name": "Python 3"
    },
    "language_info": {
      "name": "python"
    }
  },
  "cells": [
    {
      "cell_type": "markdown",
      "metadata": {
        "id": "view-in-github",
        "colab_type": "text"
      },
      "source": [
        "<a href=\"https://colab.research.google.com/github/rahulbhusari/Pandas_by_rb/blob/main/Pandas01_series.ipynb\" target=\"_parent\"><img src=\"https://colab.research.google.com/assets/colab-badge.svg\" alt=\"Open In Colab\"/></a>"
      ]
    },
    {
      "cell_type": "code",
      "execution_count": 12,
      "metadata": {
        "colab": {
          "base_uri": "https://localhost:8080/"
        },
        "id": "FrZABAAsGeTF",
        "outputId": "e3ce7680-2e1a-4ead-b429-5dfe92dc5d5c"
      },
      "outputs": [
        {
          "output_type": "stream",
          "name": "stdout",
          "text": [
            "one      1\n",
            "two      2\n",
            "three    3\n",
            "four     4\n",
            "dtype: int64\n"
          ]
        }
      ],
      "source": [
        "import pandas as pd\n",
        "import numpy as np\n",
        "\n",
        "list =  [1,2,3,4]\n",
        "list1 =  [1,2,3,4,'five',0.2]\n",
        "list2 =  [1,2,3,4]\n",
        "index1 =['one','two','three','four']\n",
        "# Seriesfromlit = pd.Series(list)\n",
        "Seriesfromlit = pd.Series(list, index = index1 )  ## one dimensional array its same like single column within data frame or tables we can also put our own index as well \n",
        "print(Seriesfromlit)\n",
        "\n",
        "\n"
      ]
    },
    {
      "cell_type": "code",
      "source": [
        "## series from dict\n",
        "dict = {1:\"blake\",2:\"mayur\", 3: \"ganesh\"}\n",
        "seriesfromdict = pd.Series(dict)\n",
        "print(seriesfromdict)\n",
        "for num, item in enumerate(seriesfromdict): ## yes afcourse we can iterate through series \n",
        "    print( '{', num+1, ':', item, '}' )"
      ],
      "metadata": {
        "colab": {
          "base_uri": "https://localhost:8080/"
        },
        "id": "BPR5atDbIxVD",
        "outputId": "eae34fda-cf0f-4dbe-fb0a-9a26a2bd8a5f"
      },
      "execution_count": 20,
      "outputs": [
        {
          "output_type": "stream",
          "name": "stdout",
          "text": [
            "1     blake\n",
            "2     mayur\n",
            "3    ganesh\n",
            "dtype: object\n",
            "{ 1 : blake }\n",
            "{ 2 : mayur }\n",
            "{ 3 : ganesh }\n"
          ]
        }
      ]
    },
    {
      "cell_type": "code",
      "source": [
        "## series from numpy array \n",
        "\n",
        "a =  np.random.power([14,12,13,14])\n",
        "a_series = pd.Series(a)\n",
        "print(a_series)"
      ],
      "metadata": {
        "colab": {
          "base_uri": "https://localhost:8080/"
        },
        "id": "9rYWxWDdLADL",
        "outputId": "aac12702-5b29-467f-e428-5de930ff81a3"
      },
      "execution_count": 26,
      "outputs": [
        {
          "output_type": "stream",
          "name": "stdout",
          "text": [
            "0    0.879505\n",
            "1    0.998537\n",
            "2    0.960291\n",
            "3    0.985827\n",
            "dtype: float64\n"
          ]
        }
      ]
    },
    {
      "cell_type": "code",
      "source": [
        "import numpy as np\n",
        "Ent_int_startvaluev  = int(input('\\n please enter the starting range of series :'))\n",
        "Ent_int_endvaluev  = int(input('\\n please enter the ending range of series :'))\n",
        "Ent_int_stepvaluev  = int(input('\\n please enter the step of series :'))\n",
        "\n",
        "a = np.linspace(Ent_int_startvaluev,Ent_int_endvaluev,Ent_int_stepvaluev)\n",
        "a_series = pd.Series(a)\n",
        "print(a_series)\n"
      ],
      "metadata": {
        "colab": {
          "base_uri": "https://localhost:8080/"
        },
        "id": "02MjRUw-NL0n",
        "outputId": "96a978b9-6392-4a01-bf69-72cd08afc075"
      },
      "execution_count": 32,
      "outputs": [
        {
          "output_type": "stream",
          "name": "stdout",
          "text": [
            "\n",
            " please enter the starting range of series :10\n",
            "\n",
            " please enter the ending range of series :1000\n",
            "\n",
            " please enter the step of series :7\n",
            "0      10.0\n",
            "1     175.0\n",
            "2     340.0\n",
            "3     505.0\n",
            "4     670.0\n",
            "5     835.0\n",
            "6    1000.0\n",
            "dtype: float64\n"
          ]
        }
      ]
    },
    {
      "cell_type": "code",
      "source": [
        "InTestVal = int(input('enter test values : '))\n",
        "np_array_rnd = np.random.randn(InTestVal)\n",
        "print(np_array_rnd)\n",
        "np_array_rnd = pd.Series(np_array_rnd)\n",
        "print(np_array_rnd)\n"
      ],
      "metadata": {
        "colab": {
          "base_uri": "https://localhost:8080/"
        },
        "id": "KHtOXbrGR9Oc",
        "outputId": "351bba8b-79dd-4340-d494-41b60fbf5274"
      },
      "execution_count": 34,
      "outputs": [
        {
          "output_type": "stream",
          "name": "stdout",
          "text": [
            "enter test values : 10\n",
            "[ 2.14429511  1.33657335 -0.89083554 -1.44183436 -0.00486848  0.20070084\n",
            "  0.9332263   0.68592109 -0.72447162 -0.09102795]\n",
            "0    2.144295\n",
            "1    1.336573\n",
            "2   -0.890836\n",
            "3   -1.441834\n",
            "4   -0.004868\n",
            "5    0.200701\n",
            "6    0.933226\n",
            "7    0.685921\n",
            "8   -0.724472\n",
            "9   -0.091028\n",
            "dtype: float64\n"
          ]
        }
      ]
    },
    {
      "cell_type": "code",
      "source": [
        "## pandas slicing\n",
        "\n",
        "slice_value  =  int(input(\"enter values to be print :\" ))\n",
        "## print(np_array_rnd[:slice_value])\n",
        "print(np_array_rnd[-slice_value:]) ## printing items of from how many last item do you want"
      ],
      "metadata": {
        "colab": {
          "base_uri": "https://localhost:8080/"
        },
        "id": "LrxGvoeiUeD-",
        "outputId": "0bc08718-08c8-4120-d22d-036862eb740a"
      },
      "execution_count": 41,
      "outputs": [
        {
          "output_type": "stream",
          "name": "stdout",
          "text": [
            "enter values to be print :1\n",
            "9   -0.091028\n",
            "dtype: float64\n"
          ]
        }
      ]
    },
    {
      "cell_type": "code",
      "source": [
        "print(np_array_rnd[1:5:2])\n",
        "print(np_array_rnd[1::2]) ##:: means its step from first index to gap means infinite till last the index and then step as normal syntax\n",
        "## start : end : step \n",
        "## [[ START :: END ]]   start:'somehow here the end is hidden hence when want to surf thourgh whole list with step then we can use this consrtuct':step"
      ],
      "metadata": {
        "colab": {
          "base_uri": "https://localhost:8080/"
        },
        "id": "7MkhLe6zWeiu",
        "outputId": "96fcc216-cc09-489b-e32c-d5de6c646cd6"
      },
      "execution_count": 45,
      "outputs": [
        {
          "output_type": "stream",
          "name": "stdout",
          "text": [
            "1    1.336573\n",
            "3   -1.441834\n",
            "dtype: float64\n",
            "1    1.336573\n",
            "3   -1.441834\n",
            "5    0.200701\n",
            "7    0.685921\n",
            "9   -0.091028\n",
            "dtype: float64\n"
          ]
        }
      ]
    }
  ]
}